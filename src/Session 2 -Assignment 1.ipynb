{
 "cells": [
  {
   "cell_type": "markdown",
   "metadata": {},
   "source": [
    "# Session 1: Assignment 1\n",
    "## 1 Introduction\n",
    "    This assignment will help you to consolidate the concepts learnt in the session.\n",
    "    \n",
    "## 2 Problem Statement\n",
    "\n",
    "### Task 1\n",
    "\n",
    "#### 1.1 Write a Python Program to implement your own myreduce() function which works exactly like Python's built-in function reduce()\n"
   ]
  },
  {
   "cell_type": "code",
   "execution_count": 1,
   "metadata": {},
   "outputs": [
    {
     "name": "stdout",
     "output_type": "stream",
     "text": [
      "Numbers :  [1, 2, 3, 4, 6]\n",
      "Sum of numbers: 16\n"
     ]
    }
   ],
   "source": [
    "def myreduce(cb, s) :\n",
    "    prev = s[0]\n",
    "    for i in range(1, len(s)):\n",
    "        prev = cb(prev, s[i])\n",
    "    \n",
    "    return prev\n",
    "\n",
    "\n",
    "#Test\n",
    "numbers = [1,2,3,4,6]\n",
    "\"\"\"\n",
    "def my_add(a, b):\n",
    "    print (a, b)\n",
    "    return a+b\n",
    "    \n",
    "sm = myreduce(my_add, numbers)\n",
    "\"\"\"\n",
    "sm = myreduce(lambda a, b : a+b, numbers)\n",
    "\n",
    "print(\"Numbers : \", numbers)\n",
    "print(\"Sum of numbers: {}\".format(sm))"
   ]
  },
  {
   "cell_type": "markdown",
   "metadata": {},
   "source": [
    "#### 1.2. Write a Python program to implement your own myfilter() function which works exactly like Python's built-in function filter()\n",
    "    "
   ]
  },
  {
   "cell_type": "code",
   "execution_count": 2,
   "metadata": {},
   "outputs": [],
   "source": [
    "\"\"\"\n",
    "def myfilter1(cb, s) :\n",
    "    return filter(cb, s)        \n",
    "\"\"\"\n",
    "\n",
    "## Below is a Generator NOT an iterator\n",
    "def myfilter(cb, s) :\n",
    "    if cb is  None:\n",
    "        cb = bool\n",
    "    \n",
    "    for e in s :\n",
    "         if cb(e):\n",
    "            yield e\n",
    "        \n"
   ]
  },
  {
   "cell_type": "code",
   "execution_count": 3,
   "metadata": {},
   "outputs": [
    {
     "name": "stdout",
     "output_type": "stream",
     "text": [
      "2\n",
      "abc\n"
     ]
    }
   ],
   "source": [
    "s = [True, False, 0, 1, 2, 'abc', 'xyz', '']\n",
    "\"\"\"\n",
    "for e in myfilter(None, s):\n",
    "    print(e)\n",
    "\"\"\"\n",
    "\n",
    "for e in myfilter((lambda a: a == 'abc' or a is 2), s):\n",
    "    print(e)"
   ]
  },
  {
   "cell_type": "markdown",
   "metadata": {},
   "source": [
    "#### 2. Implement List comprehensions to produce the following lists. Write List comprehensions to produce the following Lists\n",
    "` ['A', 'C', 'A', 'D', 'G', 'I', ’L’, ‘ D’]\n",
    "['x', 'xx', 'xxx', 'xxxx', 'y', 'yy', 'yyy', 'yyyy', 'z', 'zz', 'zzz', 'zzzz'] \n",
    "['x', 'y', 'z', 'xx', 'yy', 'zz', 'xx', 'yy', 'zz', 'xxxx', 'yyyy', 'zzzz']\n",
    "[[2], [3], [4], [3], [4], [5], [4], [5], [6]]\n",
    "[[2, 3, 4, 5], [3, 4, 5, 6], [4, 5, 6, 7], [5, 6, 7, 8]]\n",
    "[(1, 1), (2, 1), (3, 1), (1, 2), (2, 2), (3, 2), (1, 3), (2, 3), (3, 3)]\n",
    "`"
   ]
  },
  {
   "cell_type": "code",
   "execution_count": 4,
   "metadata": {},
   "outputs": [
    {
     "name": "stdout",
     "output_type": "stream",
     "text": [
      "['A', 'C', 'A', 'D', 'G', 'I', 'L', 'D']\n",
      "['x', 'xx', 'xxx', 'xxxx', 'y', 'yy', 'yyy', 'yyyy', 'z', 'zz', 'zzz', 'zzzz']\n",
      "['x', 'y', 'z', 'xx', 'yy', 'zz', 'xxx', 'yyy', 'zzz', 'xxxx', 'yyyy', 'zzzz']\n",
      "[[2], [3], [4], [3], [4], [5], [4], [5], [6]]\n",
      "[[2, 3, 4, 5], [3, 4, 5, 6], [4, 5, 6, 7], [5, 6, 7, 8]]\n",
      "[(1, 1), (2, 1), (3, 1), (1, 2), (2, 2), (3, 2), (1, 3), (2, 3), (3, 3)]\n"
     ]
    }
   ],
   "source": [
    "ip = \"ACADGILD\"\n",
    "l = [e for e in ip]\n",
    "print(l)\n",
    "\n",
    "ip = \"xyz\"\n",
    "\n",
    "l = [ e*i for e in ip for i in range(1, 5)]\n",
    "print(l)\n",
    "\n",
    "l = [ e*i  for i in range(1, 5) for e in ip]\n",
    "print(l)\n",
    "\n",
    "l = [ [e] for i in range(2, 5) for e in range(i, i+3)]\n",
    "print(l)\n",
    "\n",
    "\n",
    "l = [ [i, i+1, i+2, i+3] for i in range(2, 6)]\n",
    "print(l)\n",
    "\n",
    "t = [ (r, c) for c in range(1, 4) for r in range(1, 4)]\n",
    "print(t)\n"
   ]
  },
  {
   "cell_type": "markdown",
   "metadata": {},
   "source": [
    "#### 3. Implement a function longestWord() that takes a list of words and returns the longest one."
   ]
  },
  {
   "cell_type": "code",
   "execution_count": 5,
   "metadata": {},
   "outputs": [],
   "source": [
    "def longestWord(words):\n",
    "    word_size = -1;\n",
    "    longest_word = None\n",
    "    for word in words:\n",
    "        l = len(word)\n",
    "        if( l > word_size ):\n",
    "            word_size = l\n",
    "            longest_word = word\n",
    "            \n",
    "    return longest_word\n"
   ]
  },
  {
   "cell_type": "code",
   "execution_count": 6,
   "metadata": {},
   "outputs": [
    {
     "name": "stdout",
     "output_type": "stream",
     "text": [
      "Longest word is 'longest'.\n"
     ]
    }
   ],
   "source": [
    "words = [\"This\", \"may\", \"be\",\"a\", \"longest\", \"word\",\"if not\", \"this\", \"could\", \"be!\"]\n",
    "\n",
    "print(\"Longest word is '{}'.\".format(longestWord(words)))\n",
    "\n"
   ]
  },
  {
   "cell_type": "markdown",
   "metadata": {},
   "source": [
    "### Task 2\n",
    "#### 1.1 Write a Python Program(with class concepts) to find the area of the triangle using the below formula.\n",
    "`area = (s*(s-a)*(s-b)*(s-c)) ** 0.5`\n",
    "Function to take the length of the sides of triangle from user should be defined in the parent class and function to calculate the area should be defined in subclass."
   ]
  },
  {
   "cell_type": "code",
   "execution_count": 7,
   "metadata": {},
   "outputs": [],
   "source": [
    "class Triangle:\n",
    "    \n",
    "    def __init__(self, hside, hadj, hopp):\n",
    "        self.__hside = hside\n",
    "        self.__hadj = hadj\n",
    "        self.__hopp = hopp\n",
    "    \n",
    "    def get_hside(self):\n",
    "        return self.__hside\n",
    "    \n",
    "    def get_hadj(self):\n",
    "        return self.__hadj\n",
    "    \n",
    "    def get_hopp(self):\n",
    "        return self.__hopp\n",
    "    \n",
    "    def __str__(self):\n",
    "        return \"hside {}, hadj {}, hopp {}\".format(self.get_hside(), self.get_hadj(),self.get_hopp())\n",
    "    \n",
    "class TriangleHelper(Triangle):\n",
    "    \n",
    "    def __init(self, **args):\n",
    "        super(TriangleHelper, self).__init__(**args)\n",
    "        \n",
    "    def get_perimeter(self):\n",
    "        return (super(TriangleHelper, self).get_hside() \n",
    "                + super(TriangleHelper, self).get_hopp()\n",
    "                + super(TriangleHelper, self).get_hadj())\n",
    "    \n",
    "    def area(self):\n",
    "        s = self.get_perimeter() \n",
    "        area = (s * (s - super(TriangleHelper, self).get_hside())\n",
    "                  * (s - super(TriangleHelper, self).get_hside()) \n",
    "                  * (s - super(TriangleHelper, self).get_hside())\n",
    "               ) ** 0.5\n",
    "        return area\n",
    "    \n"
   ]
  },
  {
   "cell_type": "code",
   "execution_count": 8,
   "metadata": {},
   "outputs": [
    {
     "name": "stdout",
     "output_type": "stream",
     "text": [
      "30\n",
      "Triangle Area : 1669.394\n"
     ]
    }
   ],
   "source": [
    "t = TriangleHelper(30,20,15)\n",
    "\n",
    "print('Triangle Area : %.3f' % t.area())"
   ]
  },
  {
   "cell_type": "markdown",
   "metadata": {},
   "source": [
    "#### 1.2\n",
    "Write a function filter_long_words() that takes a list of words and an integer n and returns the list of words that are longer than n.\n"
   ]
  },
  {
   "cell_type": "code",
   "execution_count": 9,
   "metadata": {},
   "outputs": [],
   "source": [
    "def filter_long_words(words, n):\n",
    "    word_size = n;\n",
    "    longest_word = None\n",
    "    longer_words = []\n",
    "    for word in words:\n",
    "        l = len(word)\n",
    "        if( l >= word_size ):\n",
    "            word_size = l\n",
    "            longer_words.append( word) \n",
    "            #yield word\n",
    "            \n",
    "    return longer_words"
   ]
  },
  {
   "cell_type": "code",
   "execution_count": 10,
   "metadata": {},
   "outputs": [
    {
     "name": "stdout",
     "output_type": "stream",
     "text": [
      "Longer words are \n",
      "'['This', 'longest']'.\n"
     ]
    },
    {
     "data": {
      "text/plain": [
       "'\\nfor w in filter_long_words(words, n):\\n    print(w)\\n'"
      ]
     },
     "execution_count": 10,
     "metadata": {},
     "output_type": "execute_result"
    }
   ],
   "source": [
    "words = [\"This\", \"may\", \"be\",\"a\", \"longest\", \"word\",\"if not\", \"this\", \"could\", \"be!\"]\n",
    "n = 3\n",
    "print(\"Longer words are \\n'{}'.\".format(filter_long_words(words, 3)))\n",
    "\n",
    "\n",
    "\"\"\"\n",
    "for w in filter_long_words(words, n):\n",
    "    print(w)\n",
    "\"\"\""
   ]
  },
  {
   "cell_type": "markdown",
   "metadata": {},
   "source": [
    "#### 2.1\n",
    "Write a Python program using function concept that maps list of words into a list of integers\n",
    "representing the lengths of the corresponding words​.\n",
    "**Hint:** If a list [ ab,cde,erty] is passed on to the python function output should come as [2,3,4] Here 2,3 and 4 are thelengths of the words in the list."
   ]
  },
  {
   "cell_type": "code",
   "execution_count": 11,
   "metadata": {},
   "outputs": [],
   "source": [
    "def map_to_length(words):\n",
    "    \n",
    "    return [len(w) for w in words]\n"
   ]
  },
  {
   "cell_type": "code",
   "execution_count": 12,
   "metadata": {},
   "outputs": [
    {
     "name": "stdout",
     "output_type": "stream",
     "text": [
      "[2, 3, 4]\n"
     ]
    }
   ],
   "source": [
    "words = ['ab', 'cde' ,'erty'] \n",
    "\n",
    "print(map_to_length(words))"
   ]
  },
  {
   "cell_type": "markdown",
   "metadata": {},
   "source": [
    "#### 2.2\n",
    "Write a Python function which takes a character (i.e. a string of length 1) and returns True if it is a vowel, False otherwise.\n",
    "\n",
    "NOTE: The solution shared through Github should contain the sourcecode used  and the screenshot of the output."
   ]
  },
  {
   "cell_type": "code",
   "execution_count": 13,
   "metadata": {},
   "outputs": [],
   "source": [
    "def is_vowel(c):\n",
    "    vowels = {'a', 'e', 'i', 'o', 'u'}\n",
    "    for v in vowels:\n",
    "        if v == c :\n",
    "            return True\n",
    "\n",
    "    else:\n",
    "        return False\n"
   ]
  },
  {
   "cell_type": "code",
   "execution_count": 14,
   "metadata": {},
   "outputs": [
    {
     "name": "stdout",
     "output_type": "stream",
     "text": [
      "False\n"
     ]
    }
   ],
   "source": [
    "print(is_vowel('z'))"
   ]
  },
  {
   "cell_type": "markdown",
   "metadata": {},
   "source": [
    "## 3. Output \n",
    "N/A"
   ]
  }
 ],
 "metadata": {
  "kernelspec": {
   "display_name": "Python 3",
   "language": "python",
   "name": "python3"
  },
  "language_info": {
   "codemirror_mode": {
    "name": "ipython",
    "version": 3
   },
   "file_extension": ".py",
   "mimetype": "text/x-python",
   "name": "python",
   "nbconvert_exporter": "python",
   "pygments_lexer": "ipython3",
   "version": "3.7.4"
  }
 },
 "nbformat": 4,
 "nbformat_minor": 2
}
